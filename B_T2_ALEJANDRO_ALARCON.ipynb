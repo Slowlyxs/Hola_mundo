{
  "nbformat": 4,
  "nbformat_minor": 0,
  "metadata": {
    "colab": {
      "provenance": [],
      "authorship_tag": "ABX9TyMsv1n8lvD4gr1/Veb91yfB",
      "include_colab_link": true
    },
    "kernelspec": {
      "name": "python3",
      "display_name": "Python 3"
    },
    "language_info": {
      "name": "python"
    }
  },
  "cells": [
    {
      "cell_type": "markdown",
      "metadata": {
        "id": "view-in-github",
        "colab_type": "text"
      },
      "source": [
        "<a href=\"https://colab.research.google.com/github/Slowlyxs/Hola_mundo/blob/main/B_T2_ALEJANDRO_ALARCON.ipynb\" target=\"_parent\"><img src=\"https://colab.research.google.com/assets/colab-badge.svg\" alt=\"Open In Colab\"/></a>"
      ]
    },
    {
      "cell_type": "code",
      "source": [
        "#Hola Mundo: Escribe un programa que imprima \"Hola, Mundo!\" en la pantalla.\n",
        "\n",
        "print (\"Hola mundo\")"
      ],
      "metadata": {
        "colab": {
          "base_uri": "https://localhost:8080/"
        },
        "id": "S0nFxeIOgm9E",
        "outputId": "7f7a2012-c237-4660-a9da-ccef7ba746a8"
      },
      "execution_count": null,
      "outputs": [
        {
          "output_type": "stream",
          "name": "stdout",
          "text": [
            "Hola mundo\n"
          ]
        }
      ]
    },
    {
      "cell_type": "code",
      "source": [
        "#Suma de dos números: Escribe un programa que pida al usuario dos números y los sume.\n",
        "\n",
        "n1=int(input(\"Ingrese el primer numero\"))\n",
        "n2= int(input(\"Ingrese el segundo numero\"))\n",
        "#pedimos al usuario que ingrese los numeros que van a ser\n",
        "resultado = 0\n",
        "#Hacemos la multiplicacion con una variable de resultado que inicia con 0 para luego ser reemplazada con nuestra operacion.\n",
        "resultado = n1 + n2\n",
        "#Mostramos nuestro resulado\n",
        "print(resultado)"
      ],
      "metadata": {
        "colab": {
          "base_uri": "https://localhost:8080/"
        },
        "id": "ip7EIu21g78F",
        "outputId": "394df620-2e50-45d0-c058-d5fbd0648103"
      },
      "execution_count": null,
      "outputs": [
        {
          "output_type": "stream",
          "name": "stdout",
          "text": [
            "Ingrese el primer numero2\n",
            "Ingrese el segundo numero3\n",
            "5\n"
          ]
        }
      ]
    },
    {
      "cell_type": "code",
      "source": [
        "#Par o Impar: Escribe un programa que determine si un número introducido por el usuario es par o impa\n",
        "numero = int(input(\"Ingrese un numero\"))\n",
        "#Hacemos la operacion del numero par al iniciar\n",
        "if numero % 2== 0:\n",
        "  print(f\"El numero {numero} es par\")\n",
        "#Usamos el Else: para decir si no es esto , entonces es esto por asi llamarlo\n",
        "else:\n",
        "  print(f\"El numero {numero} es impar\")"
      ],
      "metadata": {
        "colab": {
          "base_uri": "https://localhost:8080/"
        },
        "id": "gXunSlcsh1Xa",
        "outputId": "7eea6b15-bde4-41c5-ab1c-2f566bd9ebd1"
      },
      "execution_count": null,
      "outputs": [
        {
          "output_type": "stream",
          "name": "stdout",
          "text": [
            "Ingrese un numero3\n",
            "El numero 3 es impar\n"
          ]
        }
      ]
    },
    {
      "cell_type": "code",
      "source": [
        "#Calculadora básica: Escribe un programa que realice operaciones básicas (suma, resta, multiplicación y división) entre dos números introducidos por el usuario.\n",
        "numero1 = int(input(\"Ingrese el primer numero\"))\n",
        "numero2 = int(input(\"Ingrese el segundo numero\"))\n",
        "suma = 0\n",
        "resta = 0\n",
        "division = 0\n",
        "multiplicacion = 0\n",
        "#declaramos las variables tanto como multi,div,sum,resta para luego reemplazar con una operacion simple\n",
        "suma = numero1 + numero2\n",
        "resta = numero1 - numero2\n",
        "division = numero1 / numero2\n",
        "multiplicacion = numero1 * numero2\n",
        "print(f\"La suma de los valores es {suma}\")\n",
        "print(f\"La resta de los valores es {resta}\")\n",
        "print(f\"La division de los valores es {division}\")\n",
        "print(f\"La muliplicacion de los valores son {multiplicacion}\")"
      ],
      "metadata": {
        "colab": {
          "base_uri": "https://localhost:8080/"
        },
        "id": "qi1TZbOGiMSn",
        "outputId": "c48b2374-2412-4d57-c6d1-b1f82c21b1e1"
      },
      "execution_count": null,
      "outputs": [
        {
          "output_type": "stream",
          "name": "stdout",
          "text": [
            "Ingrese el primer numero1\n",
            "Ingrese el segundo numero2\n",
            "La suma de los valores es 3\n",
            "La resta de los valores es -1\n",
            "La division de los valores es 0.5\n",
            "La muliplicacion de los valores son 0\n"
          ]
        }
      ]
    },
    {
      "cell_type": "code",
      "source": [
        "#Cálculo del área de un círculo: Escribe un programa que calcule el área de un círculo a partir de su radio, ingresado por el usuario.\n",
        "radio = int(input(\"Ingrese el radio de un circulo\"))\n",
        "pi = 3.1416\n",
        "#en este caso declaramos pi con los numeros en vez de exportar una libreria\n",
        "area = pi * radio**2\n",
        "print(area)"
      ],
      "metadata": {
        "colab": {
          "base_uri": "https://localhost:8080/"
        },
        "id": "0gYNWzFgi-LP",
        "outputId": "396fedd7-93da-4055-87f9-17dc0e35a313"
      },
      "execution_count": null,
      "outputs": [
        {
          "output_type": "stream",
          "name": "stdout",
          "text": [
            "Ingrese el radio de un circulo3\n",
            "28.2744\n"
          ]
        }
      ]
    },
    {
      "cell_type": "code",
      "source": [
        "#Cuenta atrás: Escribe un programa que cuente hacia atrás desde 10 hasta 0.\n",
        "for i in range(10, -1, -1):\n",
        "  print(i)\n"
      ],
      "metadata": {
        "colab": {
          "base_uri": "https://localhost:8080/"
        },
        "id": "AzErtwxmjZrH",
        "outputId": "c7c5af40-a1da-40f4-bf95-b08016999e6d"
      },
      "execution_count": null,
      "outputs": [
        {
          "output_type": "stream",
          "name": "stdout",
          "text": [
            "10\n",
            "9\n",
            "8\n",
            "7\n",
            "6\n",
            "5\n",
            "4\n",
            "3\n",
            "2\n",
            "1\n",
            "0\n"
          ]
        }
      ]
    },
    {
      "cell_type": "code",
      "source": [
        "#Tabla de multiplicar: Escribe un programa que muestre la tabla de multiplicar de un número introducido por el usuario.\n",
        "numero = int(input(\"Ingrese el numero para desplegar su tabla de multiplicar\"))\n",
        "for i in range (1,11):\n",
        "  #Ponemos un for para que vaya del 1 al 10 nuestra i y lo vamos mutiplicando usando el bucle for\n",
        "  operacion = numero * i\n",
        "  print(f\"{numero} * {i} = {operacion}\")"
      ],
      "metadata": {
        "colab": {
          "base_uri": "https://localhost:8080/"
        },
        "id": "8DcfI_nKjtDX",
        "outputId": "b16279a1-6cc7-4319-fa05-47fa24e34477"
      },
      "execution_count": null,
      "outputs": [
        {
          "output_type": "stream",
          "name": "stdout",
          "text": [
            "Ingrese el numero para desplegar su tabla de multiplicar3\n",
            "3 * 1 = 3\n",
            "3 * 2 = 6\n",
            "3 * 3 = 9\n",
            "3 * 4 = 12\n",
            "3 * 5 = 15\n",
            "3 * 6 = 18\n",
            "3 * 7 = 21\n",
            "3 * 8 = 24\n",
            "3 * 9 = 27\n",
            "3 * 10 = 30\n"
          ]
        }
      ]
    },
    {
      "cell_type": "code",
      "source": [
        "#Número mayor: Escribe un programa que pida tres números al usuario y determine cuál es el mayor.\n",
        "def encontrar_mayor(num1, num2, num3):\n",
        "    if num1 >= num2 and num1 >= num3:\n",
        "        return num1\n",
        "    elif num2 >= num1 and num2 >= num3:\n",
        "        return num2\n",
        "    else:\n",
        "        return num3\n",
        "        #en este caso usamos una condicion por ejemplo si numero1 es mayor a numero dos y numero 1 es mayor a numero 3 haz esto, luego llamamos a las variables con return\n",
        "num1 = float(input(\"Ingrese el primer numero: \"))\n",
        "num2 = float(input(\"Ingrese el segundo numero: \"))\n",
        "num3 = float(input(\"Ingrese el tercer numero: \"))\n",
        "\n",
        "mayor = encontrar_mayor(num1, num2, num3)\n",
        "print(f\"El numero mayor es: {mayor}\")\n"
      ],
      "metadata": {
        "colab": {
          "base_uri": "https://localhost:8080/"
        },
        "id": "-u18nX9skTqf",
        "outputId": "b303ea9d-3b27-4439-b052-b5fb1fbd1232"
      },
      "execution_count": null,
      "outputs": [
        {
          "output_type": "stream",
          "name": "stdout",
          "text": [
            "Ingrese el primer número: 3\n",
            "Ingrese el segundo número: 4\n",
            "Ingrese el tercer número: 5\n",
            "El numero mayor es: 5.0\n"
          ]
        }
      ]
    },
    {
      "cell_type": "code",
      "source": [
        "#Números primos: Escribe un programa que determine si un número introducido por el usuario es primo.\n",
        "numero = int(input(\"Ingrese un número entero positivo: \"))\n",
        "\n",
        "if numero <= 1:\n",
        "    es_primo = False\n",
        "else:\n",
        "    es_primo = True\n",
        "    for i in range(2, numero):\n",
        "        if numero % i == 0:\n",
        "            es_primo = False\n",
        "            break\n",
        "\n",
        "if es_primo:\n",
        "    print(f\"{numero} es un número primo.\")\n",
        "else:\n",
        "    print(f\"{numero} no es un número primo.\")\n"
      ],
      "metadata": {
        "id": "8mYY-mQ7nkes"
      },
      "execution_count": null,
      "outputs": []
    },
    {
      "cell_type": "code",
      "source": [
        "# Escribe un programa que sume todos los números naturales hasta un número límite introducido por el usuario.\n",
        "final = int(input(\"Ingrese un número limite: \"))\n",
        "suma = 0\n",
        "#usamos el bucle for para que nos sume los numeros hasta el limite para eso usamos +=\n",
        "for i in range(1, final + 1):\n",
        "    suma += i\n",
        "print(\"La suma de todos los numeros naturales hasta\", final, \"es:\", suma)\n"
      ],
      "metadata": {
        "colab": {
          "base_uri": "https://localhost:8080/"
        },
        "id": "lQ6kbnOaptlu",
        "outputId": "8dcada3c-668b-4774-c588-ef35b8b1e357"
      },
      "execution_count": null,
      "outputs": [
        {
          "output_type": "stream",
          "name": "stdout",
          "text": [
            "Ingrese un número limite: 30\n",
            "La suma de todos los números naturales hasta 30 es: 465\n"
          ]
        }
      ]
    },
    {
      "cell_type": "code",
      "source": [
        "#Escribe un programa que invierta una cadena introducida por el usuario.\n",
        "Ingreseunacadena = input(\"Introduce una cadena: \")\n",
        "cadena_invertida = Ingreseunacadena[::-1]\n",
        "#usamos para invertir ::-1\n",
        "print(\"Cadena invertida:\", cadena_invertida)"
      ],
      "metadata": {
        "colab": {
          "base_uri": "https://localhost:8080/"
        },
        "id": "RNR-V1XbrSrY",
        "outputId": "ec58cc3e-f249-443e-f373-4ae1f443bea3"
      },
      "execution_count": null,
      "outputs": [
        {
          "output_type": "stream",
          "name": "stdout",
          "text": [
            "Introduce una cadena: alo\n",
            "Cadena invertida: ola\n"
          ]
        }
      ]
    },
    {
      "cell_type": "code",
      "source": [
        "#Escribe un programa que cuente el número de vocales en una cadena introducida por el usuario.\n",
        "cadena = input(\"Introduce una cadena: \")\n",
        "vocales = \"aeiouAEIOUáéíóúÁÉÍÓÚ\"\n",
        "contador = 0\n",
        "for letra in cadena:\n",
        "    if letra in vocales:\n",
        "        contador += 1\n",
        "        #aquiusamoselcontador +=1 para que nos vaya añadiendo a nuestro contador\n",
        "print(\"El número de vocales en la cadena es:\", contador)"
      ],
      "metadata": {
        "colab": {
          "base_uri": "https://localhost:8080/"
        },
        "id": "KzOtCtG9s0_f",
        "outputId": "3b7f2c38-4efa-4df1-cc7c-30fd76b143ec"
      },
      "execution_count": null,
      "outputs": [
        {
          "output_type": "stream",
          "name": "stdout",
          "text": [
            "Introduce una cadena: paloma\n",
            "El número de vocales en la cadena es: 3\n"
          ]
        }
      ]
    },
    {
      "cell_type": "code",
      "source": [
        "#Escribe un programa que determine si una cadena introducida por el usuario es un palíndromo.\n",
        "cadena = input(\"Introduce una cadena: \")\n",
        "\n",
        "# Convertir la cadena a minúsculas y quitar los espacios en blanco\n",
        "cadena = cadena.lower().replace(\" \", \"\")\n",
        "\n",
        "# Comparar la cadena con su reverso\n",
        "if cadena == cadena[::-1]:\n",
        "    print(\"La cadena es un palíndromo.\")\n",
        "else:\n",
        "    print(\"La cadena no es un palíndromo.\")\n"
      ],
      "metadata": {
        "id": "4q06_sw8t52g",
        "colab": {
          "base_uri": "https://localhost:8080/"
        },
        "outputId": "4400d1ed-574b-478d-884f-9f5bd47c79de"
      },
      "execution_count": 1,
      "outputs": [
        {
          "output_type": "stream",
          "name": "stdout",
          "text": [
            "Introduce una cadena: Hola\n",
            "La cadena no es un palíndromo.\n"
          ]
        }
      ]
    },
    {
      "cell_type": "markdown",
      "source": [],
      "metadata": {
        "id": "NQhe0OXOgl68"
      }
    },
    {
      "cell_type": "code",
      "source": [
        "# Escribe un programa que calcule el factorial de un número introducido por el usuario.\n",
        "try:\n",
        "    num = int(input(\"Introduce un número para calcular su factorial: \"))\n",
        "\n",
        "    if num < 0:\n",
        "        print(\"El factorial no está definido para números negativos.\")\n",
        "    else:\n",
        "        # Calcular el factorial de num\n",
        "        factorial = 1\n",
        "        for i in range(1, num + 1):\n",
        "            factorial *= i\n",
        "\n",
        "        print(f\"El factorial de {num} es {factorial}\")\n",
        "except ValueError:\n",
        "    print(\"Por favor, introduce un número entero válido.\")\n"
      ],
      "metadata": {
        "colab": {
          "base_uri": "https://localhost:8080/"
        },
        "id": "9m4dRpwRK0K4",
        "outputId": "7ffbe19b-4646-42bf-d968-61f9adba47e8"
      },
      "execution_count": 2,
      "outputs": [
        {
          "output_type": "stream",
          "name": "stdout",
          "text": [
            "Introduce un número para calcular su factorial: 3\n",
            "El factorial de 3 es 6\n"
          ]
        }
      ]
    },
    {
      "cell_type": "code",
      "execution_count": 3,
      "metadata": {
        "id": "CP1rt6fngJWg",
        "colab": {
          "base_uri": "https://localhost:8080/"
        },
        "outputId": "5e5170e2-a9b1-4c95-9498-cac2cf17ebdd"
      },
      "outputs": [
        {
          "output_type": "stream",
          "name": "stdout",
          "text": [
            "6\n",
            "37\n",
            "51\n",
            "66\n",
            "12\n"
          ]
        }
      ],
      "source": [
        "import random\n",
        "\n",
        "# Generar y mostrar 5 números aleatorios entre 1 y 100 sin usar funciones propias\n",
        "contador = 0\n",
        "while contador < 5:\n",
        "    numero_aleatorio = random.randint(1, 100)\n",
        "    print(numero_aleatorio)\n",
        "    contador += 1\n"
      ]
    },
    {
      "cell_type": "code",
      "source": [
        "#Calculadora de índice de masa corporal (IMC)\n",
        "try:\n",
        "    # Solicitar al usuario que ingrese el peso en kilogramos\n",
        "    peso = float(input(\"Introduce tu peso en kilogramos: \"))\n",
        "\n",
        "    # Solicitar al usuario que ingrese la altura en metros\n",
        "    altura = float(input(\"Introduce tu altura en metros: \"))\n",
        "\n",
        "    if peso <= 0 or altura <= 0:\n",
        "        print(\"El peso y la altura deben ser valores positivos.\")\n",
        "    else:\n",
        "        # Calcular el IMC\n",
        "        imc = peso / (altura ** 2)\n",
        "\n",
        "        # Mostrar el resultado\n",
        "        print(f\"Tu índice de masa corporal (IMC) es: {imc:.2f}\")\n",
        "except ValueError:\n",
        "    print(\"Por favor, introduce valores numéricos válidos.\")\n"
      ],
      "metadata": {
        "colab": {
          "base_uri": "https://localhost:8080/"
        },
        "id": "LBH-FYw-LQ3U",
        "outputId": "14566c03-afe1-4355-e7c7-bedf2ef2a99f"
      },
      "execution_count": 4,
      "outputs": [
        {
          "output_type": "stream",
          "name": "stdout",
          "text": [
            "Introduce tu peso en kilogramos: 40\n",
            "Introduce tu altura en metros: 1.80\n",
            "Tu índice de masa corporal (IMC) es: 12.35\n"
          ]
        }
      ]
    }
  ]
}